{
 "cells": [
  {
   "cell_type": "code",
   "execution_count": null,
   "metadata": {},
   "outputs": [],
   "source": [
    "import numpy as np\n",
    "import matplotlib.pyplot as plt\n",
    "import matplotlib.patches as patches\n",
    "import matplotlib.colors as mcolors\n",
    "import matplotlib.cm as cm\n",
    "import pandas as pd"
   ]
  },
  {
   "cell_type": "code",
   "execution_count": null,
   "metadata": {},
   "outputs": [],
   "source": [
    "# Load the data\n",
    "data = pd.read_csv('Anime.csv')\n",
    "print(data.head())\n",
    "\n",
    "#store the number of rows in the data\n",
    "num_rows = data.shape[0]\n"
   ]
  },
  {
   "cell_type": "code",
   "execution_count": null,
   "metadata": {},
   "outputs": [],
   "source": [
    "##Data Cleaning\n",
    "\n",
    "#give each studio a unique id number and add it to the data\n",
    "studios = data['Studio'].unique()\n",
    "studio_ids = range(1, len(studios) + 1)\n",
    "studio_dict = dict(zip(studios, studio_ids))\n",
    "data['Studio_ID'] = data['Studio'].map(studio_dict)\n",
    "print(data.head())\n",
    "\n",
    "\n",
    "\n",
    "#drop the End_Year column\n",
    "data = data.drop('End_year', axis=1)\n",
    "data = data.drop('staff', axis=1)\n",
    "data = data.drop('Voice_actors', axis=1)\n",
    "data = data.drop('Description', axis=1)\n",
    "data = data.drop('Name', axis=1)\n",
    "data = data.drop('Japanese_name', axis=1)\n",
    "data = data.drop('Type', axis=1)\n",
    "data = data.drop('Tags', axis=1)\n",
    "data = data.drop('Related_Mange', axis=1)\n",
    "data = data.drop('Related_anime', axis=1)\n",
    "data = data.drop('Rank', axis=1)\n",
    "data = data.drop('Release_season', axis=1)\n",
    "data = data.drop('Release_year', axis=1)\n",
    "data = data.drop('Studio', axis=1)\n",
    "data = data.drop('Content_Warning', axis=1)\n",
    "\n",
    "#print the names of the columns in the data\n",
    "print(data.columns)\n",
    "\n",
    "#Remove the rows with missing values\n",
    "data = data.dropna()\n",
    "\n",
    "#store and print the number of rows after removing the missing values\n",
    "num_rows_cleaned = data.shape[0]\n",
    "print(num_rows_cleaned)\n",
    "\n",
    "print(\"=====================\")\n",
    "\n",
    "##Indexing\n",
    "\n",
    "#Give every show a unique id number\n",
    "data['ID'] = range(1, num_rows_cleaned + 1)\n",
    "print(data.head())\n",
    "\n"
   ]
  },
  {
   "cell_type": "code",
   "execution_count": null,
   "metadata": {},
   "outputs": [],
   "source": [
    "# Convert string values to numeric values\n",
    "data = data.apply(pd.to_numeric, errors='coerce')\n",
    "\n",
    "# Plot the correlation matrix\n",
    "correlation_matrix = data.corr()\n",
    "plt.matshow(correlation_matrix)\n",
    "plt.xticks(range(len(correlation_matrix.columns)), correlation_matrix.columns, rotation='vertical')\n",
    "plt.yticks(range(len(correlation_matrix.columns)), correlation_matrix.columns)\n",
    "plt.colorbar()\n",
    "plt.show()\n",
    "\n"
   ]
  }
 ],
 "metadata": {
  "kernelspec": {
   "display_name": "base",
   "language": "python",
   "name": "python3"
  },
  "language_info": {
   "codemirror_mode": {
    "name": "ipython",
    "version": 3
   },
   "file_extension": ".py",
   "mimetype": "text/x-python",
   "name": "python",
   "nbconvert_exporter": "python",
   "pygments_lexer": "ipython3",
   "version": "3.11.7"
  }
 },
 "nbformat": 4,
 "nbformat_minor": 2
}
